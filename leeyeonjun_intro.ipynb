{
  "nbformat": 4,
  "nbformat_minor": 0,
  "metadata": {
    "colab": {
      "provenance": [],
      "authorship_tag": "ABX9TyN9cQ0Rks/OQb/OFs0p/xv0",
      "include_colab_link": true
    },
    "kernelspec": {
      "name": "python3",
      "display_name": "Python 3"
    },
    "language_info": {
      "name": "python"
    }
  },
  "cells": [
    {
      "cell_type": "markdown",
      "metadata": {
        "id": "view-in-github",
        "colab_type": "text"
      },
      "source": [
        "<a href=\"https://colab.research.google.com/github/leeyeonjun85/My_profile/blob/main/leeyeonjun_intro.ipynb\" target=\"_parent\"><img src=\"https://colab.research.google.com/assets/colab-badge.svg\" alt=\"Open In Colab\"/></a>"
      ]
    },
    {
      "cell_type": "markdown",
      "source": [
        "#### 예를 들어, 아래와 같은 질문이 있을 수 있습니다.  \n",
        "\n",
        "***\n",
        "\n",
        "당신의 스마트폰 브랜드는 무엇입니까?:\n",
        "- Heading 2번째 큰 글자 크기로 출력하세요\n",
        "\n",
        "## 아이폰12mini\n",
        "\n",
        "***\n",
        "\n",
        "#### 질문의 답변을 달아주시고 요구사항에 맞게 내용을 수정해주시면 됩니다.\n",
        "\n",
        "> Heading 이라는 단어가 무엇인지 모르시겠나요? Markdown 사용법을 참고해보시기 바랍니다\n",
        "\n",
        "--- \n",
        "\n",
        "# 🔥 이제 질문에 대한 답을 작성해 볼까요?\n",
        "\n",
        "#### 현재의 나를 세 단어로 표현하면:\n",
        "- 해당 질문을 더블클릭하면 수정하실 수 있습니다.\n",
        "- [Markdown] Heading 3번째 큰 글자 크기로 출력하세요\n",
        "\n",
        "[답변]  \n",
        "### 도전, 몰입, 가족\n",
        "\n",
        "---\n",
        "\n",
        "#### 내가 가장 좋아하는 취미는?:\n",
        "- 해당 질문을 더블클릭하면 수정하실 수 있습니다.\n",
        "- [Markdown] 두꺼운 글씨로 출력하세요\n",
        "\n",
        "[답변]  \n",
        "**프로야구(기아타이거즈 팬)**  \n",
        "\n",
        "---\n",
        "\n",
        "#### 만약 시간 여행이 가능하다면 \"언제\", \"어디로\", \"왜\" 가고 싶은지 간단하게 작성해 주시기 바랍니다.:\n",
        "- 해당 질문을 더블클릭하면 수정하실 수 있습니다.\n",
        "- [Markdown] 순서없는 리스트 형식으로 \"언제\", \"어디로\", \"왜\"를 작성해주세요\n",
        "\n",
        "[답변]  \n",
        "- 언제\n",
        "  - 고등학교 졸업시기\n",
        "- 어디로\n",
        "  - 학교 진로상담실\n",
        "- 왜\n",
        "  - 대학에서 내가 정말 하고 싶은 공부(컴퓨터, 코딩)를 할 수 있도록 대학 진로를 선택할 수 있도록 하기 위해서\n",
        "\n",
        "---\n",
        "\n",
        "#### 부트캠프를 앞둔 나의 다짐은 무엇인가요?:\n",
        "- 해당 질문을 더블클릭하면 수정하실 수 있습니다.\n",
        "- [Markdown] code로 표현해주세요\n",
        "\n",
        "[답변] \n",
        "```\n",
        "10년 넘게 다니던 직장을 떠나 38이라는 늦은 나이에 공부를 시작했습니다.\n",
        "16기에 지원했다가 점수 미달로 불합격하는 좌절을 경험하고, 다시 지원하여 17기에 원하는 공부를 할 수 있게 되었습니다.\n",
        "개발자로 취업하는 것이 쉽지는 않겠지만 정말 하고 싶은 공부이기 때문에 포기하거나 좌절하지는 않을 것입니다.\n",
        "```"
      ],
      "metadata": {
        "id": "S8KF_lQoOLuy"
      }
    }
  ]
}